{
  "nbformat": 4,
  "nbformat_minor": 0,
  "metadata": {
    "colab": {
      "provenance": []
    },
    "kernelspec": {
      "name": "python3",
      "display_name": "Python 3"
    },
    "language_info": {
      "name": "python"
    }
  },
  "cells": [
    {
      "cell_type": "code",
      "execution_count": null,
      "metadata": {
        "id": "5mWAdN7d9SCu"
      },
      "outputs": [],
      "source": [
        "import pandas as pd\n",
        "import numpy as np\n",
        "from sklearn import linear_model"
      ]
    },
    {
      "cell_type": "code",
      "source": [
        "path_to_data_set = '/content/drive/MyDrive/Colab Notebooks/candidatos.csv'"
      ],
      "metadata": {
        "id": "ngvCmOdt-DfS"
      },
      "execution_count": null,
      "outputs": []
    },
    {
      "cell_type": "code",
      "source": [
        "data_frame = pd.read_csv(path_to_data_set)"
      ],
      "metadata": {
        "id": "AJNwCmqq-syy"
      },
      "execution_count": null,
      "outputs": []
    },
    {
      "cell_type": "code",
      "source": [
        "import math\n",
        "avg_test_score = math.floor(data_frame['test_score'].median())\n",
        "data_frame['test_score'] = data_frame['test_score'].fillna(avg_test_score)"
      ],
      "metadata": {
        "id": "nyPpqZOq-3mW"
      },
      "execution_count": null,
      "outputs": []
    },
    {
      "cell_type": "code",
      "source": [
        "!pip install word2number"
      ],
      "metadata": {
        "id": "UMciOR1rBMAK"
      },
      "execution_count": null,
      "outputs": []
    },
    {
      "cell_type": "code",
      "source": [
        "from word2number import w2n\n",
        "for index in range(len(data_frame['experience'])):\n",
        "  if not (str(data_frame['experience'][index]) == 'nan'):\n",
        "    data_frame['experience'][index] = w2n.word_to_num(str(data_frame['experience'][index]))"
      ],
      "metadata": {
        "id": "kEw41hJbCs3p"
      },
      "execution_count": null,
      "outputs": []
    },
    {
      "cell_type": "code",
      "source": [
        "avg_experience = math.floor(data_frame['experience'].median())\n",
        "data_frame['experience'] = data_frame['experience'].fillna(avg_experience)"
      ],
      "metadata": {
        "id": "S3pzIRE8DJoV"
      },
      "execution_count": null,
      "outputs": []
    },
    {
      "cell_type": "code",
      "source": [
        "reg = linear_model.LinearRegression()\n",
        "reg.fit(data_frame[['experience', 'test_score', 'interview_score']], data_frame['salary'])"
      ],
      "metadata": {
        "id": "fa8bAFcp_yHl"
      },
      "execution_count": null,
      "outputs": []
    },
    {
      "cell_type": "code",
      "source": [
        "jr = [[1, 5, 6]]\n",
        "reg.predict(jr)"
      ],
      "metadata": {
        "id": "C2qBHERMDdBz"
      },
      "execution_count": null,
      "outputs": []
    },
    {
      "cell_type": "code",
      "source": [
        "pl = [[6, 7, 8]]\n",
        "reg.predict(pl)"
      ],
      "metadata": {
        "colab": {
          "base_uri": "https://localhost:8080/"
        },
        "id": "exDaLZ49D54I",
        "outputId": "c16162e5-b066-4b0d-bde3-31644e0e671a"
      },
      "execution_count": 33,
      "outputs": [
        {
          "output_type": "stream",
          "name": "stderr",
          "text": [
            "/usr/local/lib/python3.7/dist-packages/sklearn/base.py:451: UserWarning: X does not have valid feature names, but LinearRegression was fitted with feature names\n",
            "  \"X does not have valid feature names, but\"\n"
          ]
        },
        {
          "output_type": "execute_result",
          "data": {
            "text/plain": [
              "array([62378.21210948])"
            ]
          },
          "metadata": {},
          "execution_count": 33
        }
      ]
    }
  ]
}